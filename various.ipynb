{
 "cells": [
  {
   "cell_type": "code",
   "execution_count": 1,
   "metadata": {},
   "outputs": [],
   "source": [
    "# imports\n",
    "import cv2\n",
    "import pandas as pd\n",
    "import numpy as np\n",
    "from pathlib import Path\n",
    "import os\n",
    "import io\n",
    "from PIL import Image\n",
    "import os\n",
    "from zipfile import ZipFile\n",
    "import matplotlib.pyplot as plt\n",
    "import matplotlib\n",
    "import glob\n",
    "#from natsort import natsorted \n",
    "#import imutils\n",
    "from random import randint\n",
    "#import splitfolders\n",
    "%matplotlib inline "
   ]
  },
  {
   "cell_type": "code",
   "execution_count": 2,
   "metadata": {},
   "outputs": [],
   "source": [
    "from DataClass import PennFudanDataset\n",
    "root = './data/PennFudanPed'\n",
    "data = PennFudanDataset(root, transforms=None)"
   ]
  },
  {
   "cell_type": "code",
   "execution_count": 20,
   "metadata": {},
   "outputs": [],
   "source": [
    "from helpers import display_bounding_box\n",
    "image = display_bounding_box(data[0]['img'],data[0]['target']['boxes'].numpy(),display=False)\n",
    "plt.imsave(f\"./Image.jpg\",np.array(data[0]['img']))"
   ]
  },
  {
   "cell_type": "code",
   "execution_count": 21,
   "metadata": {},
   "outputs": [
    {
     "data": {
      "text/plain": [
       "array([[[211, 200, 182],\n",
       "        [210, 199, 181],\n",
       "        [212, 201, 183],\n",
       "        ...,\n",
       "        [143,  96,  78],\n",
       "        [146,  99,  81],\n",
       "        [148, 101,  83]],\n",
       "\n",
       "       [[179, 168, 150],\n",
       "        [173, 162, 144],\n",
       "        [170, 159, 141],\n",
       "        ...,\n",
       "        [126,  79,  61],\n",
       "        [128,  81,  63],\n",
       "        [128,  81,  63]],\n",
       "\n",
       "       [[204, 193, 175],\n",
       "        [194, 183, 165],\n",
       "        [188, 177, 159],\n",
       "        ...,\n",
       "        [130,  83,  65],\n",
       "        [131,  84,  66],\n",
       "        [130,  83,  65]],\n",
       "\n",
       "       ...,\n",
       "\n",
       "       [[226, 220, 220],\n",
       "        [217, 211, 211],\n",
       "        [211, 205, 205],\n",
       "        ...,\n",
       "        [183, 183, 183],\n",
       "        [184, 184, 184],\n",
       "        [185, 185, 185]],\n",
       "\n",
       "       [[231, 225, 225],\n",
       "        [219, 213, 213],\n",
       "        [210, 204, 204],\n",
       "        ...,\n",
       "        [187, 187, 187],\n",
       "        [187, 187, 187],\n",
       "        [186, 186, 186]],\n",
       "\n",
       "       [[225, 219, 219],\n",
       "        [227, 221, 221],\n",
       "        [215, 209, 209],\n",
       "        ...,\n",
       "        [190, 190, 190],\n",
       "        [190, 190, 190],\n",
       "        [187, 187, 187]]], dtype=uint8)"
      ]
     },
     "execution_count": 21,
     "metadata": {},
     "output_type": "execute_result"
    }
   ],
   "source": [
    "image"
   ]
  },
  {
   "cell_type": "code",
   "execution_count": null,
   "metadata": {},
   "outputs": [],
   "source": []
  }
 ],
 "metadata": {
  "kernelspec": {
   "display_name": "conda_pytorch_p36",
   "language": "python",
   "name": "conda_pytorch_p36"
  },
  "language_info": {
   "codemirror_mode": {
    "name": "ipython",
    "version": 3
   },
   "file_extension": ".py",
   "mimetype": "text/x-python",
   "name": "python",
   "nbconvert_exporter": "python",
   "pygments_lexer": "ipython3",
   "version": "3.6.10"
  }
 },
 "nbformat": 4,
 "nbformat_minor": 4
}
